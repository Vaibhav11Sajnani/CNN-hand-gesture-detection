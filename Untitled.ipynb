{
 "cells": [
  {
   "cell_type": "code",
   "execution_count": 1,
   "metadata": {
    "collapsed": true
   },
   "outputs": [],
   "source": [
    "import tensorflow as tf\n",
    "from matplotlib import pyplot as plt"
   ]
  },
  {
   "cell_type": "code",
   "execution_count": 2,
   "metadata": {
    "collapsed": true
   },
   "outputs": [],
   "source": [
    "img_rows = 200 \n",
    "img_cols = 200\n",
    "img_channels = 1\n",
    "batch_size = 32\n",
    "nb_classes = 5\n",
    "nb_epoch = 15\n",
    "nb_filters = 32\n",
    "pool_shape = 2\n",
    "filter_shape = 3\n",
    "output = [\"OK\", \"NOTHING\",\"PEACE\", \"PUNCH\", \"STOP\"]\n"
   ]
  },
  {
   "cell_type": "code",
   "execution_count": 3,
   "metadata": {
    "collapsed": true
   },
   "outputs": [],
   "source": [
    "x = tf.placeholder(tf.float32, [None, img_rows*img_cols])\n",
    "x_shaped = tf.reshape(x, [1, img_rows, img_cols, 1])\n",
    "y = tf.placeholder(tf.float32, [None, 10])\n"
   ]
  },
  {
   "cell_type": "code",
   "execution_count": 4,
   "metadata": {
    "collapsed": true
   },
   "outputs": [],
   "source": [
    "def conv_layer(input_data, img_channels, nb_filters, filter_shape, pool_shape, name):\n",
    "    conv_filter_shape = [filter_shape, filter_shape, img_channels, nb_filters]\n",
    "    weights = tf.Variable(tf.truncated_normal(conv_filter_shape, stddev = 0.03), name = name+'_W')\n",
    "    bias = tf.Variable(tf.truncated_normal([nb_filters]), name=name+'_b')\n",
    "    out_layer = tf.nn.conv2d(input_data, weights, [1, 1, 1, 1], padding='SAME')\n",
    "    out_layer += bias\n",
    "    out_layer = tf.nn.relu(out_layer)\n",
    "    ksize = [1, pool_shape, pool_shape, 1]\n",
    "    strides = [1, 2, 2, 1]\n",
    "    out_layer = tf.nn.max_pool(out_layer, ksize=ksize, strides=strides, padding='SAME')\n",
    "    return out_layer"
   ]
  },
  {
   "cell_type": "code",
   "execution_count": 5,
   "metadata": {
    "collapsed": true
   },
   "outputs": [],
   "source": [
    "layer1 = conv_layer(x_shaped, img_channels, nb_filters, filter_shape, pool_shape, name = 'layer1')\n",
    "layer2 = conv_layer(layer1, 32, nb_filters, filter_shape, pool_shape, name = 'layer2')\n"
   ]
  },
  {
   "cell_type": "code",
   "execution_count": 6,
   "metadata": {
    "collapsed": true
   },
   "outputs": [],
   "source": [
    "flattened = tf.reshape(layer2, [-1, 80000])\n",
    "\n",
    "wd1 = tf.Variable(tf.truncated_normal([80000, 128], stddev=0.03), name='wd1')\n",
    "bd1 = tf.Variable(tf.truncated_normal([128], stddev=0.01), name='bd1')\n",
    "dense_layer1 = tf.matmul(flattened, wd1) + bd1\n",
    "dense_layer1 = tf.nn.relu(dense_layer1)\n",
    "\n",
    "wd2 = tf.Variable(tf.truncated_normal([128, 5], stddev=0.03), name='wd2')\n",
    "bd2 = tf.Variable(tf.truncated_normal([5], stddev=0.01), name='bd2')\n",
    "dense_layer2 = tf.matmul(dense_layer1, wd2) + bd2\n",
    "y_ = tf.nn.softmax(dense_layer2)"
   ]
  },
  {
   "cell_type": "code",
   "execution_count": 7,
   "metadata": {
    "collapsed": true
   },
   "outputs": [],
   "source": [
    "cross_entropy = tf.reduce_mean(tf.nn.softmax_cross_entropy_with_logits_v2(logits = dense_layer2, labels = y))"
   ]
  },
  {
   "cell_type": "code",
   "execution_count": null,
   "metadata": {
    "collapsed": true
   },
   "outputs": [],
   "source": [
    "learning_rate = 0.0001\n"
   ]
  }
 ],
 "metadata": {
  "kernelspec": {
   "display_name": "Python 3",
   "language": "python",
   "name": "python3"
  },
  "language_info": {
   "codemirror_mode": {
    "name": "ipython",
    "version": 3
   },
   "file_extension": ".py",
   "mimetype": "text/x-python",
   "name": "python",
   "nbconvert_exporter": "python",
   "pygments_lexer": "ipython3",
   "version": "3.5.4"
  }
 },
 "nbformat": 4,
 "nbformat_minor": 2
}
